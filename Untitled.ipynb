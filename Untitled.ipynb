{
 "cells": [
  {
   "cell_type": "markdown",
   "metadata": {},
   "source": [
    "# Machine Learning Model Implement"
   ]
  },
  {
   "cell_type": "markdown",
   "metadata": {},
   "source": [
    "## Naive Bayse"
   ]
  },
  {
   "cell_type": "code",
   "execution_count": 36,
   "metadata": {},
   "outputs": [
    {
     "name": "stdout",
     "output_type": "stream",
     "text": [
      "    Unnamed: 0  factor1  factor2  RTN\n",
      "0            0    8.617   13.332    1\n",
      "1            1    3.534   14.289    1\n",
      "2            2    9.642    8.948    1\n",
      "3            3    4.380    7.035    1\n",
      "4            4    8.508    6.225    1\n",
      "5            5    9.792   10.107    1\n",
      "6            6   10.184   10.768    1\n",
      "7            7    8.678   11.498    1\n",
      "8            8    2.852    6.253    1\n",
      "9           21    8.582    2.877   -1\n",
      "10          22   14.271    5.281   -1\n",
      "11          23    5.480    6.419   -1\n",
      "12          24   12.973    3.599   -1\n",
      "13          25   11.931    7.231   -1\n",
      "14          26   13.094    3.336   -1\n",
      "15          27    7.928    1.803   -1\n",
      "16          28    8.227    9.415   -1\n",
      "17          29   10.130    5.319   -1\n"
     ]
    }
   ],
   "source": [
    "import pandas as pd\n",
    "from Naive_bayse import Naive_bayse\n",
    "\n",
    "train_data = pd.read_csv('./data/data.csv')\n",
    "print(train_data)"
   ]
  },
  {
   "cell_type": "code",
   "execution_count": 37,
   "metadata": {},
   "outputs": [],
   "source": [
    "model = Naive_bayse.Naive_Bayse()\n",
    "model.fit(train_data[['factor1', 'factor2']], train_data['RTN'])"
   ]
  }
 ],
 "metadata": {
  "kernelspec": {
   "display_name": "Python 3",
   "language": "python",
   "name": "python3"
  },
  "language_info": {
   "codemirror_mode": {
    "name": "ipython",
    "version": 3
   },
   "file_extension": ".py",
   "mimetype": "text/x-python",
   "name": "python",
   "nbconvert_exporter": "python",
   "pygments_lexer": "ipython3",
   "version": "3.5.1"
  }
 },
 "nbformat": 4,
 "nbformat_minor": 2
}
