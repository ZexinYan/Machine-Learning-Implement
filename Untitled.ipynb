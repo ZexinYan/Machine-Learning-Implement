{
 "cells": [
  {
   "cell_type": "markdown",
   "metadata": {},
   "source": [
    "# Machine Learning Model Implement"
   ]
  },
  {
   "cell_type": "markdown",
   "metadata": {},
   "source": [
    "## Naive Bayse"
   ]
  },
  {
   "cell_type": "code",
   "execution_count": 25,
   "metadata": {},
   "outputs": [
    {
     "name": "stderr",
     "output_type": "stream",
     "text": [
      "/Library/Frameworks/Python.framework/Versions/3.5/lib/python3.5/site-packages/numpy/lib/arraysetops.py:463: FutureWarning: elementwise comparison failed; returning scalar instead, but in the future will perform elementwise comparison\n",
      "  mask |= (ar1 == a)\n"
     ]
    },
    {
     "name": "stdout",
     "output_type": "stream",
     "text": [
      "         factor_1  factor_2  factor_4  factor_5  factor_3\n",
      "8932677       4.0       5.0       4.0       3.0       5.0\n",
      "1759051       5.0       2.0       5.0       2.0       3.0\n",
      "3991355       2.0       2.0       2.0       1.0       1.0\n",
      "1010300       5.0       4.0       1.0       2.0       1.0\n",
      "6527567       2.0       5.0       4.0       5.0       4.0\n",
      "8932677   -1\n",
      "1759051   -1\n",
      "3991355   -1\n",
      "1010300   -1\n",
      "6527567   -1\n",
      "Name: factor_RTN20D, dtype: int64\n"
     ]
    }
   ],
   "source": [
    "import pandas as pd\n",
    "from sklearn.utils import shuffle\n",
    "\n",
    "train_data = shuffle(pd.read_csv('./data/5.csv', index_col=0))\n",
    "train_data.dropna(inplace=True)\n",
    "X = train_data[['factor_1', 'factor_2', 'factor_4', 'factor_5', 'factor_3']]\n",
    "y = train_data['factor_RTN20D']\n",
    "print(X.head())\n",
    "print(y.head())"
   ]
  },
  {
   "cell_type": "code",
   "execution_count": 26,
   "metadata": {},
   "outputs": [
    {
     "name": "stdout",
     "output_type": "stream",
     "text": [
      "0.896370979879\n",
      "0.896370979879\n"
     ]
    }
   ],
   "source": [
    "import Naive_bayse.Naive_bayse as NB\n",
    "from sklearn.naive_bayes import GaussianNB\n",
    "\n",
    "model = NB.Naive_Bayse()\n",
    "model.fit(X, y)\n",
    "print(model.score())\n",
    "\n",
    "lib_model = GaussianNB()\n",
    "lib_model.fit(X, y)\n",
    "print(lib_model.score(X, y))"
   ]
  }
 ],
 "metadata": {
  "kernelspec": {
   "display_name": "Python 3",
   "language": "python",
   "name": "python3"
  },
  "language_info": {
   "codemirror_mode": {
    "name": "ipython",
    "version": 3
   },
   "file_extension": ".py",
   "mimetype": "text/x-python",
   "name": "python",
   "nbconvert_exporter": "python",
   "pygments_lexer": "ipython3",
   "version": "3.5.1"
  }
 },
 "nbformat": 4,
 "nbformat_minor": 2
}
